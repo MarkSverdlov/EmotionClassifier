{
 "cells": [
  {
   "cell_type": "code",
   "execution_count": 1,
   "id": "308614c0-4ff0-4de5-9b54-85068eff07a8",
   "metadata": {},
   "outputs": [],
   "source": [
    "import numpy as np\n",
    "import pandas as pd\n",
    "import torch\n",
    "import matplotlib.pyplot as plt"
   ]
  },
  {
   "cell_type": "code",
   "execution_count": 4,
   "id": "874bda14-e639-4171-9a37-36a1c5e222f5",
   "metadata": {},
   "outputs": [],
   "source": [
    "data = pd.read_csv(\"emotions.csv\")"
   ]
  },
  {
   "cell_type": "code",
   "execution_count": 6,
   "id": "4f64a543-5341-47cb-8aea-84eca3466830",
   "metadata": {},
   "outputs": [
    {
     "data": {
      "text/html": [
       "<div>\n",
       "<style scoped>\n",
       "    .dataframe tbody tr th:only-of-type {\n",
       "        vertical-align: middle;\n",
       "    }\n",
       "\n",
       "    .dataframe tbody tr th {\n",
       "        vertical-align: top;\n",
       "    }\n",
       "\n",
       "    .dataframe thead th {\n",
       "        text-align: right;\n",
       "    }\n",
       "</style>\n",
       "<table border=\"1\" class=\"dataframe\">\n",
       "  <thead>\n",
       "    <tr style=\"text-align: right;\">\n",
       "      <th></th>\n",
       "      <th>text</th>\n",
       "      <th>label</th>\n",
       "    </tr>\n",
       "  </thead>\n",
       "  <tbody>\n",
       "    <tr>\n",
       "      <th>0</th>\n",
       "      <td>i just feel really helpless and heavy hearted</td>\n",
       "      <td>4</td>\n",
       "    </tr>\n",
       "    <tr>\n",
       "      <th>1</th>\n",
       "      <td>ive enjoyed being able to slouch about relax a...</td>\n",
       "      <td>0</td>\n",
       "    </tr>\n",
       "    <tr>\n",
       "      <th>2</th>\n",
       "      <td>i gave up my internship with the dmrg and am f...</td>\n",
       "      <td>4</td>\n",
       "    </tr>\n",
       "    <tr>\n",
       "      <th>3</th>\n",
       "      <td>i dont know i feel so lost</td>\n",
       "      <td>0</td>\n",
       "    </tr>\n",
       "    <tr>\n",
       "      <th>4</th>\n",
       "      <td>i am a kindergarten teacher and i am thoroughl...</td>\n",
       "      <td>4</td>\n",
       "    </tr>\n",
       "    <tr>\n",
       "      <th>5</th>\n",
       "      <td>i was beginning to feel quite disheartened</td>\n",
       "      <td>0</td>\n",
       "    </tr>\n",
       "    <tr>\n",
       "      <th>6</th>\n",
       "      <td>i would think that whomever would be lucky eno...</td>\n",
       "      <td>2</td>\n",
       "    </tr>\n",
       "    <tr>\n",
       "      <th>7</th>\n",
       "      <td>i fear that they won t ever feel that deliciou...</td>\n",
       "      <td>1</td>\n",
       "    </tr>\n",
       "    <tr>\n",
       "      <th>8</th>\n",
       "      <td>im forever taking some time out to have a lie ...</td>\n",
       "      <td>5</td>\n",
       "    </tr>\n",
       "    <tr>\n",
       "      <th>9</th>\n",
       "      <td>i can still lose the weight without feeling de...</td>\n",
       "      <td>0</td>\n",
       "    </tr>\n",
       "    <tr>\n",
       "      <th>10</th>\n",
       "      <td>i try to be nice though so if you get a bitchy...</td>\n",
       "      <td>1</td>\n",
       "    </tr>\n",
       "    <tr>\n",
       "      <th>11</th>\n",
       "      <td>im feeling a little like a damaged tree and th...</td>\n",
       "      <td>0</td>\n",
       "    </tr>\n",
       "    <tr>\n",
       "      <th>12</th>\n",
       "      <td>i have officially graduated im not feeling as ...</td>\n",
       "      <td>1</td>\n",
       "    </tr>\n",
       "    <tr>\n",
       "      <th>13</th>\n",
       "      <td>i feel like a jerk because the library student...</td>\n",
       "      <td>3</td>\n",
       "    </tr>\n",
       "    <tr>\n",
       "      <th>14</th>\n",
       "      <td>i feel my portfolio demonstrates how eager i a...</td>\n",
       "      <td>1</td>\n",
       "    </tr>\n",
       "    <tr>\n",
       "      <th>15</th>\n",
       "      <td>i may be more biased than the next because i h...</td>\n",
       "      <td>1</td>\n",
       "    </tr>\n",
       "    <tr>\n",
       "      <th>16</th>\n",
       "      <td>i didn t feel terrific</td>\n",
       "      <td>1</td>\n",
       "    </tr>\n",
       "    <tr>\n",
       "      <th>17</th>\n",
       "      <td>i miss all the others as well that feel that i...</td>\n",
       "      <td>3</td>\n",
       "    </tr>\n",
       "    <tr>\n",
       "      <th>18</th>\n",
       "      <td>i feel so stupid that i realise it so late</td>\n",
       "      <td>0</td>\n",
       "    </tr>\n",
       "    <tr>\n",
       "      <th>19</th>\n",
       "      <td>i saunter through the airport terminals feelin...</td>\n",
       "      <td>3</td>\n",
       "    </tr>\n",
       "  </tbody>\n",
       "</table>\n",
       "</div>"
      ],
      "text/plain": [
       "                                                 text  label\n",
       "0       i just feel really helpless and heavy hearted      4\n",
       "1   ive enjoyed being able to slouch about relax a...      0\n",
       "2   i gave up my internship with the dmrg and am f...      4\n",
       "3                          i dont know i feel so lost      0\n",
       "4   i am a kindergarten teacher and i am thoroughl...      4\n",
       "5          i was beginning to feel quite disheartened      0\n",
       "6   i would think that whomever would be lucky eno...      2\n",
       "7   i fear that they won t ever feel that deliciou...      1\n",
       "8   im forever taking some time out to have a lie ...      5\n",
       "9   i can still lose the weight without feeling de...      0\n",
       "10  i try to be nice though so if you get a bitchy...      1\n",
       "11  im feeling a little like a damaged tree and th...      0\n",
       "12  i have officially graduated im not feeling as ...      1\n",
       "13  i feel like a jerk because the library student...      3\n",
       "14  i feel my portfolio demonstrates how eager i a...      1\n",
       "15  i may be more biased than the next because i h...      1\n",
       "16                             i didn t feel terrific      1\n",
       "17  i miss all the others as well that feel that i...      3\n",
       "18         i feel so stupid that i realise it so late      0\n",
       "19  i saunter through the airport terminals feelin...      3"
      ]
     },
     "execution_count": 6,
     "metadata": {},
     "output_type": "execute_result"
    }
   ],
   "source": [
    "data.head(20)"
   ]
  },
  {
   "cell_type": "code",
   "execution_count": 7,
   "id": "d0559d2f-1d6e-42a2-85d8-987bb9ea81d6",
   "metadata": {},
   "outputs": [
    {
     "data": {
      "text/plain": [
       "(416809, 2)"
      ]
     },
     "execution_count": 7,
     "metadata": {},
     "output_type": "execute_result"
    }
   ],
   "source": [
    "data.shape"
   ]
  },
  {
   "cell_type": "code",
   "execution_count": 11,
   "id": "811e6653-94d9-4d17-98a7-13ae85ddd81d",
   "metadata": {},
   "outputs": [
    {
     "data": {
      "text/plain": [
       "count    416809.000000\n",
       "mean         97.028397\n",
       "std          56.198232\n",
       "min           2.000000\n",
       "25%          54.000000\n",
       "50%          86.000000\n",
       "75%         128.000000\n",
       "max         830.000000\n",
       "Name: text, dtype: float64"
      ]
     },
     "execution_count": 11,
     "metadata": {},
     "output_type": "execute_result"
    }
   ],
   "source": [
    "data['text'].transform(lambda s: len(s)).describe()"
   ]
  },
  {
   "cell_type": "code",
   "execution_count": 12,
   "id": "a3ca61c9-925f-45d7-83e5-5dbde7aeb839",
   "metadata": {},
   "outputs": [
    {
     "data": {
      "text/plain": [
       "{np.int64(0), np.int64(1), np.int64(2), np.int64(3), np.int64(4), np.int64(5)}"
      ]
     },
     "execution_count": 12,
     "metadata": {},
     "output_type": "execute_result"
    }
   ],
   "source": [
    "set(data['label'].values)"
   ]
  },
  {
   "cell_type": "code",
   "execution_count": 13,
   "id": "ae3a9613-a473-49f8-8503-96fde882b1b0",
   "metadata": {},
   "outputs": [],
   "source": [
    "label_meaning = {\n",
    "    np.int64(0): 'sadness',\n",
    "    np.int64(1): 'joy',\n",
    "    np.int64(2): 'love',\n",
    "    np.int64(3): 'anger',\n",
    "    np.int64(4): 'fear',\n",
    "    np.int64(5): 'surprise',\n",
    "}"
   ]
  },
  {
   "cell_type": "code",
   "execution_count": null,
   "id": "74a337bc-2fdb-4e5b-bfca-b84e40bb225e",
   "metadata": {},
   "outputs": [],
   "source": []
  }
 ],
 "metadata": {
  "kernelspec": {
   "display_name": "Python 3 (ipykernel)",
   "language": "python",
   "name": "python3"
  },
  "language_info": {
   "codemirror_mode": {
    "name": "ipython",
    "version": 3
   },
   "file_extension": ".py",
   "mimetype": "text/x-python",
   "name": "python",
   "nbconvert_exporter": "python",
   "pygments_lexer": "ipython3",
   "version": "3.12.1"
  }
 },
 "nbformat": 4,
 "nbformat_minor": 5
}
